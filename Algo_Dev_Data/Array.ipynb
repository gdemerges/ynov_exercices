{
 "cells": [
  {
   "cell_type": "code",
   "execution_count": null,
   "id": "81d39cf6-fe60-4c4e-97fd-9cb4f21d44b9",
   "metadata": {},
   "outputs": [
    {
     "name": "stdout",
     "output_type": "stream",
     "text": [
      "Liste: [1, 2, 3, 4, 5]\n",
      "Array: array('i', [1, 2, 3, 4, 5])\n",
      "Type liste: <class 'list'>\n",
      "Type array: <class 'array.array'>\n"
     ]
    }
   ],
   "source": [
    "# LISTE - Flexible mais moins efficace\n",
    "liste_nombres = [1, 2, 3, 4, 5]\n",
    "liste_mixte = [1, \"deux\", 3.0, [4, 5]]\n",
    "\n",
    "# ARRAY - Efficace mais rigide\n",
    "from array import array\n",
    "array_entiers = array('i', [1, 2, 3, 4, 5]) #i pour entiers\n",
    "array_floats = array('f', [1.1, 2.2, 3.3]) #f pour floats\n",
    "\n",
    "print(\"Liste:\", liste_nombres)\n",
    "print(\"Array:\", array_entiers)\n",
    "print(\"Type liste:\", type(liste_nombres))\n",
    "print(\"Type array:\", type(array_entiers))"
   ]
  }
 ],
 "metadata": {
  "kernelspec": {
   "display_name": "Python 3",
   "language": "python",
   "name": "python3"
  },
  "language_info": {
   "codemirror_mode": {
    "name": "ipython",
    "version": 3
   },
   "file_extension": ".py",
   "mimetype": "text/x-python",
   "name": "python",
   "nbconvert_exporter": "python",
   "pygments_lexer": "ipython3",
   "version": "3.11.11"
  }
 },
 "nbformat": 4,
 "nbformat_minor": 5
}
