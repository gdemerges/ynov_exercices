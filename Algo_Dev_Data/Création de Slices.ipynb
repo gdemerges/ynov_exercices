{
 "cells": [
  {
   "cell_type": "code",
   "execution_count": 12,
   "id": "3dc9cdf3-54ad-4e19-adac-bebfa7ecfa29",
   "metadata": {},
   "outputs": [
    {
     "name": "stdout",
     "output_type": "stream",
     "text": [
      "['c', 'd', 'e']\n",
      "['c', 'd', 'e']\n",
      "['a', 'c', 'e', 'g']\n",
      "['a', 'c', 'e', 'g']\n",
      "['a', 'c', 'e', 'g']\n",
      "['a', 'c', 'e', 'g']\n",
      "['h', 'g', 'f', 'e']\n",
      "['h', 'g', 'f', 'e']\n",
      "['b', 'd', 'f']\n",
      "['g', 'e', 'c', 'a']\n"
     ]
    }
   ],
   "source": [
    "liste = ['a', 'b', 'c', 'd', 'e', 'f', 'g', 'h']\n",
    "\n",
    "# 1. ['c', 'd', 'e']\n",
    "# Ton slice: \n",
    "print(liste[2:5])\n",
    "print(liste[-6:5:1])\n",
    "\n",
    "# 2. ['a', 'c', 'e', 'g']  \n",
    "# Ton slice:\n",
    "print(liste[0:7:2])\n",
    "print(liste[::2])\n",
    "print(liste[0::2])\n",
    "print(liste[-8::2])\n",
    "\n",
    "# 3. ['h', 'g', 'f', 'e']\n",
    "# Ton slice:\n",
    "print(liste[7:3:-1])\n",
    "print(liste[-1:3:-1])\n",
    "\n",
    "# 4. ['b', 'd', 'f']\n",
    "# Ton slice:\n",
    "print(liste[1:6:2])\n",
    "\n",
    "# 5. ['g', 'e', 'c', 'a']\n",
    "# Ton slice:\n",
    "print(liste[6::-2])"
   ]
  }
 ],
 "metadata": {
  "kernelspec": {
   "display_name": "Python 3",
   "language": "python",
   "name": "python3"
  },
  "language_info": {
   "codemirror_mode": {
    "name": "ipython",
    "version": 3
   },
   "file_extension": ".py",
   "mimetype": "text/x-python",
   "name": "python",
   "nbconvert_exporter": "python",
   "pygments_lexer": "ipython3",
   "version": "3.11.11"
  }
 },
 "nbformat": 4,
 "nbformat_minor": 5
}
