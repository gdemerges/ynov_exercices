{
 "cells": [
  {
   "cell_type": "code",
   "execution_count": 2,
   "id": "f7515ec2-bfb1-4b6c-b31a-b783e770780a",
   "metadata": {},
   "outputs": [
    {
     "name": "stdout",
     "output_type": "stream",
     "text": [
      "[0, 4, 16, 36, 64, 100]\n",
      "['P', 'E', 'G']\n",
      "[(0, 0, 0), (1, 1, 1), (2, 4, 8), (3, 9, 27)]\n",
      "[2, 3, 4, 6, 8, 9, 10, 12, 14, 15, 16, 18, 20]\n"
     ]
    }
   ],
   "source": [
    "# 1. Liste des carrés des nombres pairs de 0 à 10\n",
    "# [0, 4, 16, 36, 64, 100]\n",
    "resultat1 = [x**2 for x in range(0, 11) if x % 2 == 0]\n",
    "print(resultat1)\n",
    "\n",
    "# 2. Liste des premières lettres de chaque mot, en majuscules\n",
    "mots = [\"python\", \"est\", \"génial\"]\n",
    "# ['P', 'E', 'G']\n",
    "resultat2 = [mot[0].upper() for mot in mots]\n",
    "print(resultat2)\n",
    "\n",
    "# 3. Liste des tuples (nombre, carré, cube) pour 0 à 3\n",
    "# [(0,0,0), (1,1,1), (2,4,8), (3,9,27)]\n",
    "resultat3 = [(x, x**2, x**3) for x in range(4)]\n",
    "print(resultat3)\n",
    "\n",
    "# 4. Liste des nombres de 1 à 20 qui sont divisibles par 2 OU par 3\n",
    "# [2,3,4,6,8,9,10,12,14,15,16,18,20]\n",
    "resultat4 = [x for x in range(1, 21) if x % 2 == 0 or x % 3 == 0]\n",
    "print(resultat4)"
   ]
  }
 ],
 "metadata": {
  "kernelspec": {
   "display_name": "Python 3",
   "language": "python",
   "name": "python3"
  },
  "language_info": {
   "codemirror_mode": {
    "name": "ipython",
    "version": 3
   },
   "file_extension": ".py",
   "mimetype": "text/x-python",
   "name": "python",
   "nbconvert_exporter": "python",
   "pygments_lexer": "ipython3",
   "version": "3.11.11"
  }
 },
 "nbformat": 4,
 "nbformat_minor": 5
}
