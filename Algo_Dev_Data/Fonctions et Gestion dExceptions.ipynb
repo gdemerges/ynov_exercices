{
 "cells": [
  {
   "cell_type": "markdown",
   "id": "1faab482-928d-4c04-b306-3dc08212a12b",
   "metadata": {},
   "source": [
    "## 1.Fonction avec paramètres optionnels"
   ]
  },
  {
   "cell_type": "code",
   "execution_count": null,
   "id": "262e2a9a-883e-4394-bcb9-6d38b68163b7",
   "metadata": {},
   "outputs": [
    {
     "name": "stdout",
     "output_type": "stream",
     "text": [
      "Moyenne simple: 12.33\n",
      "Moyenne coeff: 18.5\n",
      "Erreur: Aucune note fournie\n"
     ]
    }
   ],
   "source": [
    "def calculer_moyenne(*notes, coefficient=1.0): # créer un tuple notes / coefficient -> Paramètre optionnel avec valeur par défaut\n",
    "    \"\"\"\n",
    "    Calcule la moyenne des notes avec un coefficient optionnel\n",
    "    \"\"\"\n",
    "    # Vérifie qu'au moins une note est fournie\n",
    "    if not notes:\n",
    "        raise ValueError(\"Aucune note fournie\")\n",
    "    \n",
    "    # Vérifie que toutes les notes sont bien des nombres (int ou float)\n",
    "    if any(not isinstance(note, (int, float)) for note in notes):\n",
    "        raise TypeError(\"Les notes doivent être des nombres\")\n",
    "    \n",
    "    # Calcule la moyenne arithmétique puis applique le coefficient\n",
    "    moyenne = sum(notes) / len(notes) * coefficient\n",
    "    \n",
    "    # Retourne la moyenne arrondie à 2 décimales\n",
    "    return round(moyenne, 2)\n",
    "\n",
    "# Tests\n",
    "try:\n",
    "    # Test 1 : moyenne simple sans coefficient\n",
    "    print(\"Moyenne simple:\", calculer_moyenne(10, 12, 15))\n",
    "    # Test 2 : moyenne avec coefficient 1.5\n",
    "    print(\"Moyenne coeff:\", calculer_moyenne(10, 12, 15, coefficient=1.5))\n",
    "    # Test 3 : appel sans note -> déclenche ValueError\n",
    "    print(\"Moyenne vide:\", calculer_moyenne())\n",
    "except (ValueError, TypeError) as e:\n",
    "    # Capture et affiche les erreurs levées (si notes manquantes ou mauvaises)\n",
    "    print(f\"Erreur: {e}\")"
   ]
  },
  {
   "cell_type": "markdown",
   "id": "f4e4b110-176c-49ff-8dbc-eb83d08b9661",
   "metadata": {},
   "source": [
    "## 2.Gestion complète d'exceptions"
   ]
  },
  {
   "cell_type": "code",
   "execution_count": null,
   "id": "23817564-0ca9-4fc1-8c02-6604a9fd3b4c",
   "metadata": {},
   "outputs": [
    {
     "name": "stdout",
     "output_type": "stream",
     "text": [
      "Résultat: 0.3333333333333333\n"
     ]
    }
   ],
   "source": [
    "def division_securisee():\n",
    "    \"\"\"\n",
    "    Demande deux nombres et effectue une division sécurisée\n",
    "    \"\"\"\n",
    "    try:\n",
    "        # On demande à l'utilisateur d'entrer deux nombres\n",
    "        # input() retourne une chaîne → on convertit en float\n",
    "        a = float(input(\"Entrez le numérateur: \"))\n",
    "        b = float(input(\"Entrez le dénominateur: \"))\n",
    "        \n",
    "        # Division classique\n",
    "        resultat = a / b\n",
    "        return f\"Résultat: {resultat}\"\n",
    "        \n",
    "    except ValueError:\n",
    "        # Erreur si l'utilisateur entre autre chose qu'un nombre\n",
    "        return \"Erreur: Veuillez entrer des nombres valides\"\n",
    "    except ZeroDivisionError:\n",
    "        # Erreur spécifique si le dénominateur est zéro\n",
    "        return \"Erreur: Division par zéro impossible\"\n",
    "    except Exception as e:\n",
    "        # Catch-all : pour toute autre erreur inattendue\n",
    "        return f\"Erreur inattendue: {e}\"\n",
    "\n",
    "# Décommentez pour tester\n",
    "print(division_securisee())"
   ]
  }
 ],
 "metadata": {
  "kernelspec": {
   "display_name": "Python 3",
   "language": "python",
   "name": "python3"
  },
  "language_info": {
   "codemirror_mode": {
    "name": "ipython",
    "version": 3
   },
   "file_extension": ".py",
   "mimetype": "text/x-python",
   "name": "python",
   "nbconvert_exporter": "python",
   "pygments_lexer": "ipython3",
   "version": "3.11.11"
  }
 },
 "nbformat": 4,
 "nbformat_minor": 5
}
