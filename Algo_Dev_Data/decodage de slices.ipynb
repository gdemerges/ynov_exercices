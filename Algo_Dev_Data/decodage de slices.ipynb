{
 "cells": [
  {
   "cell_type": "code",
   "execution_count": null,
   "id": "f72d563a-0428-416e-8c38-29e45a0d7ea1",
   "metadata": {},
   "outputs": [],
   "source": [
    "# 1. \n",
    "liste = [0, 1, 2, 3, 4, 5, 6, 7, 8, 9]\n",
    "print(liste[2:7])\n",
    "# a) [2,3,4,5,6] b) [2,3,4,5,6,7] c) [3,4,5,6,7]\n",
    "# Réponse : a // Explication : L'index de début est 2 et l'index de fin est 7,on s'arrête avant 7.\n",
    "\n",
    "# 2.\n",
    "print(liste[::3])\n",
    "# a) [0,3,6,9] b) [0,1,2,3] c) [3,6,9]\n",
    "# Réponse : a // Explication : On prend un élément sur trois, en commençant par l'index 0.\n",
    "\n",
    "# 3.\n",
    "print(liste[-4:-1])\n",
    "# a) [6,7,8] b) [7,8,9] c) [5,6,7]\n",
    "# Réponse : a // Explication : Les index négatifs comptent à partir de la fin de la liste, donc de 9 à 6, -1 étant le dernier élément, on s'arrête donc à 8.\n",
    "\n",
    "# 4.\n",
    "print(liste[5:2:-1])\n",
    "# a) [5,4,3] b) [4,3,2] c) [5,4]\n",
    "# Réponse : a // Explication : On commence à l'index 5 et on va jusqu'à l'index 2 (exclu), en décrémentant de 1 à chaque étape.\n",
    "\n",
    "# 5.\n",
    "print(liste[::-2])\n",
    "# a) [9,7,5,3,1] b) [8,6,4,2,0] c) [9,8,7,6,5]\n",
    "# Réponse : a // Explication : On commence à la fin de la liste et on prend un élément sur deux en allant vers le début."
   ]
  }
 ],
 "metadata": {
  "kernelspec": {
   "display_name": "Python 3",
   "language": "python",
   "name": "python3"
  },
  "language_info": {
   "codemirror_mode": {
    "name": "ipython",
    "version": 3
   },
   "file_extension": ".py",
   "mimetype": "text/x-python",
   "name": "python",
   "nbconvert_exporter": "python",
   "pygments_lexer": "ipython3",
   "version": "3.11.11"
  }
 },
 "nbformat": 4,
 "nbformat_minor": 5
}
