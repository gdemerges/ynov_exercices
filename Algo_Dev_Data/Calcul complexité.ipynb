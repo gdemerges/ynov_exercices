{
 "cells": [
  {
   "cell_type": "markdown",
   "id": "76e4029e-4af5-4f50-9041-0d82ac80329e",
   "metadata": {},
   "source": [
    "## Énoncé\n",
    "### Analysez la complexité temporelle des algorithmes suivants en notation Grand O.\n",
    "\n"
   ]
  },
  {
   "cell_type": "code",
   "execution_count": null,
   "id": "e98ca2a5-4d6f-4923-9467-d53040a6462b",
   "metadata": {},
   "outputs": [],
   "source": [
    "def algorithme1(n):\n",
    "    i = 0                    # Étape 1\n",
    "    for i in range(n):       # Boucle 1\n",
    "        print(i)\n",
    "    \n",
    "    for j in range(n):       # Boucle 2\n",
    "        for k in range(n):   # Boucle 3\n",
    "            print(j + k)"
   ]
  },
  {
   "cell_type": "markdown",
   "id": "e7a724ce-6bab-4913-912b-697378ba8d24",
   "metadata": {},
   "source": [
    "### Algorithme 1:\n",
    "\n",
    "Combien d'opérations effectue la première boucle ?\n",
    "\n",
    "Combien d'opérations effectue la double boucle ?\n",
    "\n",
    "Quelle est la complexité totale en notation O() ?"
   ]
  },
  {
   "cell_type": "code",
   "execution_count": null,
   "id": "601e84d2-39bf-4b92-9deb-c78ccfa5cc56",
   "metadata": {},
   "outputs": [],
   "source": [
    "def algorithme2(n):\n",
    "    x = 0                    # Étape 1\n",
    "    for i in range(n):       # Boucle 1\n",
    "        x += i\n",
    "    \n",
    "    for j in range(n):       # Boucle 2\n",
    "        print(j)\n",
    "    \n",
    "    for k in range(10):      # Boucle 3\n",
    "        print(k)"
   ]
  },
  {
   "cell_type": "markdown",
   "id": "2735ef6b-d303-494d-b9af-d203988dad3e",
   "metadata": {},
   "source": [
    "### Algorithme 2:\n",
    "\n",
    "Identifiez les différentes parties de l'algorithme\n",
    "\n",
    "Calculez le nombre total d'opérations\n",
    "\n",
    "Donnez la complexité en O()"
   ]
  },
  {
   "cell_type": "code",
   "execution_count": null,
   "id": "a0fdca2f-9ee6-486d-b642-4979fa22af5c",
   "metadata": {},
   "outputs": [],
   "source": [
    "def algorithme3(n):\n",
    "    count = 0\n",
    "    for i in range(n):\n",
    "        for j in range(n):\n",
    "            for k in range(n):\n",
    "                count += 1\n",
    "    return count"
   ]
  },
  {
   "cell_type": "markdown",
   "id": "753d4cb5-781a-4271-bdd3-70ada94b574b",
   "metadata": {},
   "source": [
    "### Algorithme 3:\n",
    "\n",
    "Quelle est la complexité de la triple boucle ?\n",
    "\n",
    "Justifiez votre réponse"
   ]
  },
  {
   "cell_type": "code",
   "execution_count": null,
   "id": "d6083da1-4bbb-4c84-8974-c11820bc5061",
   "metadata": {},
   "outputs": [],
   "source": []
  },
  {
   "cell_type": "code",
   "execution_count": null,
   "id": "19a84412-1797-40ff-ad20-a85397d15621",
   "metadata": {},
   "outputs": [],
   "source": []
  }
 ],
 "metadata": {
  "kernelspec": {
   "display_name": "Python 3 (ipykernel)",
   "language": "python",
   "name": "python3"
  },
  "language_info": {
   "codemirror_mode": {
    "name": "ipython",
    "version": 3
   },
   "file_extension": ".py",
   "mimetype": "text/x-python",
   "name": "python",
   "nbconvert_exporter": "python",
   "pygments_lexer": "ipython3",
   "version": "3.13.5"
  }
 },
 "nbformat": 4,
 "nbformat_minor": 5
}
